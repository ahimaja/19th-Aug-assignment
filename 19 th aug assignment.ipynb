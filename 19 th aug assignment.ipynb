{
 "cells": [
  {
   "cell_type": "markdown",
   "id": "b22145b0",
   "metadata": {},
   "source": [
    "# TOPIC: Python Basics Variable"
   ]
  },
  {
   "cell_type": "markdown",
   "id": "7e8871ec",
   "metadata": {},
   "source": [
    "### Question 1"
   ]
  },
  {
   "cell_type": "code",
   "execution_count": 1,
   "id": "6942040e",
   "metadata": {},
   "outputs": [
    {
     "name": "stdout",
     "output_type": "stream",
     "text": [
      "The value of x is 5\n",
      "The value of y is 25\n"
     ]
    }
   ],
   "source": [
    "# Declaring two varibales x and y\n",
    "x = 25\n",
    "y = 5\n",
    "# Assigning the value of sum of these two varibales back to the varibale x\n",
    "x = x + y\n",
    "# now x = 30 , y = 5\n",
    "# Assigning the value of difference of modified values of x and y to varibale y \n",
    "y = x - y\n",
    "# now x = 30 and y = 25\n",
    "# Assigning the value of difference of modified values of x and y to varibale y\n",
    "x = x - y\n",
    "# now x = 5 and y = 25\n",
    "print(\"The value of x is\",x)\n",
    "print(\"The value of y is\",y)"
   ]
  },
  {
   "cell_type": "markdown",
   "id": "6dfa20ff",
   "metadata": {},
   "source": [
    "### Question 2"
   ]
  },
  {
   "cell_type": "code",
   "execution_count": 2,
   "id": "fd261a91",
   "metadata": {},
   "outputs": [
    {
     "name": "stdout",
     "output_type": "stream",
     "text": [
      "Enter the value of length of rectangle: 2.9\n",
      "Enter the value of width of rectangle: 15.4\n",
      "The area of the rectangle is 44.66\n"
     ]
    }
   ],
   "source": [
    "'''The value of input can either float or int data type, so we have done type casting to float to \n",
    "accomodate both int and float data type inputs'''\n",
    "length = float(input(\"Enter the value of length of rectangle: \"))\n",
    "width = float(input(\"Enter the value of width of rectangle: \"))\n",
    "area = length*width\n",
    "print(\"The area of the rectangle is\",round(area,2))"
   ]
  },
  {
   "cell_type": "markdown",
   "id": "97a3520e",
   "metadata": {},
   "source": [
    "### Question 3"
   ]
  },
  {
   "cell_type": "code",
   "execution_count": 3,
   "id": "66997b68",
   "metadata": {},
   "outputs": [
    {
     "name": "stdout",
     "output_type": "stream",
     "text": [
      "Enter the value of temperature in degrees Celsius : 28.6\n",
      "The value of temperature in degrees Fahrenheit is 83.48\n"
     ]
    }
   ],
   "source": [
    "'''The value of input can either float or int data type, so we have done type casting to float to \n",
    "accomodate both int and float data type inputs'''\n",
    "c = float(input(\"Enter the value of temperature in degrees Celsius : \"))\n",
    "f = (c * 9/5 ) + 32\n",
    "print(\"The value of temperature in degrees Fahrenheit is\", round(f,2))"
   ]
  },
  {
   "cell_type": "markdown",
   "id": "447bca4e",
   "metadata": {},
   "source": [
    "# TOPIC: String Based Questions"
   ]
  },
  {
   "cell_type": "markdown",
   "id": "df9898e3",
   "metadata": {},
   "source": [
    "### Question 1"
   ]
  },
  {
   "cell_type": "code",
   "execution_count": 4,
   "id": "3f4415c3",
   "metadata": {},
   "outputs": [
    {
     "name": "stdout",
     "output_type": "stream",
     "text": [
      "Enter the string: Good Morning\n",
      "The length of the string entered is 12\n"
     ]
    }
   ],
   "source": [
    "line = input(\"Enter the string: \")\n",
    "# len() , a built in function calculates the length of the srting\n",
    "line_len = len(line)\n",
    "print(\"The length of the string entered is\", line_len)"
   ]
  },
  {
   "cell_type": "markdown",
   "id": "430d7a54",
   "metadata": {},
   "source": [
    "### Question 2"
   ]
  },
  {
   "cell_type": "code",
   "execution_count": 5,
   "id": "76d99aee",
   "metadata": {},
   "outputs": [
    {
     "name": "stdout",
     "output_type": "stream",
     "text": [
      "Enter a sentence of your choice: I am happy today\n",
      "The no of vowels in the sentence are: 5\n"
     ]
    }
   ],
   "source": [
    "vowels = ['a','e','i','o','u']\n",
    "''' Converting the input taken from user to lower case, to avoid skipping the count of \n",
    "vowels in capital letters '''\n",
    "line = input(\"Enter a sentence of your choice: \").lower()\n",
    "# Chekcing the occurence of each item of the list 'vowel' in the input line and totaling the counts\n",
    "vowel_count = sum(line.count(letter) for letter in vowels)\n",
    "print(\"The no of vowels in the sentence are:\",vowel_count)"
   ]
  },
  {
   "cell_type": "markdown",
   "id": "90640a3c",
   "metadata": {},
   "source": [
    "### Question 3"
   ]
  },
  {
   "cell_type": "code",
   "execution_count": 6,
   "id": "36150c4e",
   "metadata": {},
   "outputs": [
    {
     "name": "stdout",
     "output_type": "stream",
     "text": [
      "Please enter a sentence of your choice: pwskills\n",
      "The reversed string/sentence is sllikswp\n"
     ]
    }
   ],
   "source": [
    "line = input(\"Please enter a sentence of your choice: \")\n",
    "'''Using string indexing we are accessing the letters in the string from reverse direction \n",
    "using index -1 as the starting index and the length(string)+1 as the end index, since slicing works on the \n",
    "accesing the items in the list or string upto the index of \"end index-1\".\n",
    "we have caluclated the length of the string to identify the end index number and\n",
    "-abs() function to convert the length value in negative number as we are using reverse indexing from -1'''\n",
    "total = -abs(len(line)+1)\n",
    "reversed_line = line[-1:total:-1]\n",
    "# We can also simply use 'line[::-1]' to access the string in reverse direction\n",
    "print(\"The reversed string/sentence is\",reversed_line)"
   ]
  },
  {
   "cell_type": "markdown",
   "id": "8d70f55b",
   "metadata": {},
   "source": [
    "### Question 4"
   ]
  },
  {
   "cell_type": "code",
   "execution_count": 7,
   "id": "999ac364",
   "metadata": {},
   "outputs": [
    {
     "name": "stdout",
     "output_type": "stream",
     "text": [
      "Please enter a word of your choice: pullup\n",
      "The string entered is palindrome\n"
     ]
    }
   ],
   "source": [
    "word = input(\"Please enter a word of your choice: \")\n",
    "'''Accesing all the letters in word from reverse direction and \n",
    "storing it in a new variable rev_word'''\n",
    "rev_word = word[::-1]\n",
    "if word == rev_word: # checking if both the input word and reversed word are same \n",
    "    print(\"The string entered is palindrome\")\n",
    "else:\n",
    "    print(\"The string entered is not palindrome\")"
   ]
  },
  {
   "cell_type": "markdown",
   "id": "0aa842ae",
   "metadata": {},
   "source": [
    "### Question 5"
   ]
  },
  {
   "cell_type": "code",
   "execution_count": 8,
   "id": "29ee75bf",
   "metadata": {},
   "outputs": [
    {
     "name": "stdout",
     "output_type": "stream",
     "text": [
      "Please enter a sentence of your choice: I am learning python\n",
      "Iamlearningpython\n"
     ]
    }
   ],
   "source": [
    "line = input(\"Please enter a sentence of your choice: \")\n",
    "# str.replace() function replaces all spaces with nothing by the below mentioned assignment \"\"\n",
    "line = line.replace(\" \",\"\")\n",
    "print(line)"
   ]
  }
 ],
 "metadata": {
  "kernelspec": {
   "display_name": "Python 3 (ipykernel)",
   "language": "python",
   "name": "python3"
  },
  "language_info": {
   "codemirror_mode": {
    "name": "ipython",
    "version": 3
   },
   "file_extension": ".py",
   "mimetype": "text/x-python",
   "name": "python",
   "nbconvert_exporter": "python",
   "pygments_lexer": "ipython3",
   "version": "3.9.12"
  }
 },
 "nbformat": 4,
 "nbformat_minor": 5
}
